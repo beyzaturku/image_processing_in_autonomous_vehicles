{
  "cells": [
    {
      "cell_type": "markdown",
      "metadata": {
        "id": "view-in-github",
        "colab_type": "text"
      },
      "source": [
        "<a href=\"https://colab.research.google.com/github/beyzaturku/image_processing_in_autonomous_vehicles/blob/main/serit_takip.ipynb\" target=\"_parent\"><img src=\"https://colab.research.google.com/assets/colab-badge.svg\" alt=\"Open In Colab\"/></a>"
      ]
    },
    {
      "cell_type": "code",
      "source": [
        "!pip install -q opencv-python"
      ],
      "metadata": {
        "id": "f-Sdz4xsbYZR"
      },
      "execution_count": null,
      "outputs": []
    },
    {
      "cell_type": "code",
      "source": [
        "# Libraries for working with image processing\n",
        "import numpy as np\n",
        "import pandas as pd\n",
        "import cv2\n",
        "from google.colab.patches import cv2_imshow\n",
        "# Libraries needed to edit/save/watch video clips\n",
        "from moviepy import editor\n",
        "import moviepy\n"
      ],
      "metadata": {
        "id": "cRDGXJ-3baRn",
        "colab": {
          "base_uri": "https://localhost:8080/"
        },
        "outputId": "469b9fe3-2aa1-47c1-a151-dd1d84d8dc5a"
      },
      "execution_count": null,
      "outputs": [
        {
          "output_type": "stream",
          "name": "stderr",
          "text": [
            "WARNING:py.warnings:/usr/local/lib/python3.11/dist-packages/moviepy/video/io/sliders.py:61: SyntaxWarning: \"is\" with a literal. Did you mean \"==\"?\n",
            "  if event.key is 'enter':\n",
            "\n"
          ]
        }
      ]
    },
    {
      "cell_type": "code",
      "source": [
        "test_video = '/content/project_video.mp4'\n",
        "output_video = '/content/output_video1.mp4'\n"
      ],
      "metadata": {
        "id": "QbkUkhVrbbx9"
      },
      "execution_count": null,
      "outputs": []
    },
    {
      "cell_type": "code",
      "source": [
        "import cv2\n",
        "import numpy as np\n",
        "import moviepy.editor as editor\n",
        "import time\n",
        "\n",
        "# 1. Renk eşikleme\n",
        "def color_threshold(img):\n",
        "    hls = cv2.cvtColor(img, cv2.COLOR_BGR2HLS)\n",
        "    lab = cv2.cvtColor(img, cv2.COLOR_BGR2Lab)\n",
        "\n",
        "    # Beyaz\n",
        "    white = cv2.inRange(hls[:, :, 1], 200, 255)\n",
        "\n",
        "    # Sarı\n",
        "    yellow = cv2.inRange(hls[:, :, 0], 15, 35) & cv2.inRange(hls[:, :, 2], 100, 255)\n",
        "\n",
        "    # Parlaklık\n",
        "    light = cv2.inRange(lab[:, :, 0], 190, 255)\n",
        "\n",
        "    # Yeni eklenen: Gri yüzey maskesi (gri yol için)\n",
        "    grayish = cv2.inRange(hls, (0, 30, 60), (180, 80, 200))\n",
        "\n",
        "    # Hepsini birleştir\n",
        "    return cv2.bitwise_or(cv2.bitwise_or(cv2.bitwise_or(white, yellow), light), grayish)\n",
        "\n",
        "\n",
        "# 2. Kenar tespiti\n",
        "def edge_detection(gray):\n",
        "    blurred = cv2.GaussianBlur(gray, (5, 5), 0)\n",
        "    edges = cv2.Canny(blurred, 50, 150)\n",
        "    return edges\n",
        "\n",
        "# 3. ROI\n",
        "def region_of_interest(img):\n",
        "    h, w = img.shape[:2]\n",
        "    mask = np.zeros_like(img)\n",
        "    polygon = np.array([[\n",
        "        (int(w * 0.1), h),\n",
        "        (int(w * 0.4), int(h * 0.6)),\n",
        "        (int(w * 0.6), int(h * 0.6)),\n",
        "        (int(w * 0.9), h)\n",
        "    ]], np.int32)\n",
        "    cv2.fillPoly(mask, polygon, 255)\n",
        "    return cv2.bitwise_and(img, mask)\n",
        "\n",
        "# 4. Hough\n",
        "def hough_lines(img):\n",
        "    lines = cv2.HoughLinesP(img, 1, np.pi/180, 50, minLineLength=40, maxLineGap=100)\n",
        "    if lines is None:\n",
        "        return []\n",
        "    filtered = []\n",
        "    for x1, y1, x2, y2 in lines.reshape(-1, 4):\n",
        "        if x2 == x1: continue\n",
        "        slope = (y2 - y1) / (x2 - x1)\n",
        "        angle = abs(np.degrees(np.arctan(slope)))\n",
        "        if 20 < angle < 80:\n",
        "            filtered.append((x1, y1, x2, y2, slope))\n",
        "    return filtered\n",
        "\n",
        "# 5. Regresyon + merkez hesap + eğim yazdır\n",
        "def fit_lane_lines(img, lines):\n",
        "    h, w = img.shape[:2]\n",
        "    left_points, right_points = [], []\n",
        "    left_slope, right_slope = None, None\n",
        "\n",
        "    for x1, y1, x2, y2, slope in lines:\n",
        "        if slope < 0:\n",
        "            left_points += [(x1, y1), (x2, y2)]\n",
        "        else:\n",
        "            right_points += [(x1, y1), (x2, y2)]\n",
        "\n",
        "    def make_line(points):\n",
        "        if not points:\n",
        "            return None, None\n",
        "        x, y = zip(*points)\n",
        "        poly = np.polyfit(y, x, 1)\n",
        "\n",
        "        # Orta alt kısmı temel alan daha kısa ve gerçekçi çizgi aralığı\n",
        "        y1 = int(h)                 # alt uç\n",
        "        y2 = int(h * 0.75)          # üst uç daha kısa mesafeye alınır\n",
        "\n",
        "        # x1, x2 koordinatlarını y üzerinden tahmin et\n",
        "        x1 = int(np.polyval(poly, y1))\n",
        "        x2 = int(np.polyval(poly, y2))\n",
        "\n",
        "        # Eğer çizgi görüntü dışında kalıyorsa sınırla\n",
        "        if not (0 <= x1 < w and 0 <= x2 < w):\n",
        "            return None, None\n",
        "\n",
        "        slope = -poly[0]\n",
        "        return (x1, y1, x2, y2), slope\n",
        "\n",
        "\n",
        "\n",
        "    left_line,  left_slope  = make_line(left_points)\n",
        "    right_line, right_slope = make_line(right_points)\n",
        "\n",
        "    lane_img = np.zeros_like(img)\n",
        "    lane_center = None\n",
        "    car_offset = None\n",
        "\n",
        "    if left_line and right_line:\n",
        "        cv2.line(lane_img, (left_line[0], left_line[1]), (left_line[2], left_line[3]), (0, 255, 0), 8)\n",
        "        cv2.line(lane_img, (right_line[0], right_line[1]), (right_line[2], right_line[3]), (0, 0, 255), 8)\n",
        "\n",
        "        # Center offset\n",
        "        left_base = left_line[0]\n",
        "        right_base = right_line[0]\n",
        "        lane_center = (left_base + right_base) // 2\n",
        "        car_center = w // 2\n",
        "        car_offset = (car_center - lane_center) * 3.7 / 700  # varsayılan: 700px = 3.7m şerit genişliği\n",
        "\n",
        "        # Eğim metni\n",
        "        cv2.putText(lane_img, f\"Slope L: {left_slope:.2f}\", (left_line[0], left_line[1]-20), cv2.FONT_HERSHEY_SIMPLEX, 0.6, (255,255,255), 2)\n",
        "        cv2.putText(lane_img, f\"Slope R: {right_slope:.2f}\", (right_line[0], right_line[1]-20), cv2.FONT_HERSHEY_SIMPLEX, 0.6, (255,255,255), 2)\n",
        "\n",
        "    return lane_img, car_offset\n",
        "\n",
        "# FPS ölçümü için zaman tut\n",
        "last_time = [time.time()]\n",
        "\n",
        "import os\n",
        "\n",
        "# global sayaç (isteğe bağlı dışarıdan da verilebilir)\n",
        "frame_counter = [0]  # list içinde olursa değiştirilebilir\n",
        "\n",
        "def frame_processor(image):\n",
        "    start_time = time.time()\n",
        "    debug_img = image.copy()\n",
        "\n",
        "    # ID ataması ve klasör oluşturma\n",
        "    frame_id = frame_counter[0]\n",
        "    frame_counter[0] += 1\n",
        "    os.makedirs(\"output\", exist_ok=True)\n",
        "\n",
        "    # 1. Renk maskesi\n",
        "    color_mask = color_threshold(image)\n",
        "    cv2.imwrite(f\"output/{frame_id:03d}_1_color_mask.jpg\", color_mask)\n",
        "\n",
        "    # 2. Kenar\n",
        "    gray = cv2.cvtColor(image, cv2.COLOR_BGR2GRAY)\n",
        "    edge_mask = edge_detection(gray)\n",
        "    cv2.imwrite(f\"output/{frame_id:03d}_2_edges.jpg\", edge_mask)\n",
        "\n",
        "    # 3. Birleştirilmiş\n",
        "    combined = cv2.bitwise_or(color_mask, edge_mask)\n",
        "    cv2.imwrite(f\"output/{frame_id:03d}_3_combined.jpg\", combined)\n",
        "\n",
        "    # 4. ROI\n",
        "    roi = region_of_interest(combined)\n",
        "    cv2.imwrite(f\"output/{frame_id:03d}_4_roi.jpg\", roi)\n",
        "\n",
        "    # 5. Hough çizgileri\n",
        "    lines = hough_lines(roi)\n",
        "    hough_img = np.zeros_like(image)\n",
        "    for x1, y1, x2, y2, _ in lines:\n",
        "        cv2.line(hough_img, (x1, y1), (x2, y2), (0, 255, 255), 2)\n",
        "    cv2.imwrite(f\"output/{frame_id:03d}_5_hough_lines.jpg\", hough_img)\n",
        "\n",
        "    # 6. Ortalama şerit çizgileri\n",
        "    lane_img, offset = fit_lane_lines(image, lines)\n",
        "\n",
        "    # 7. Görseli orijinalin üzerine bindir\n",
        "    overlay = cv2.addWeighted(image, 0.8, lane_img, 1, 0)\n",
        "\n",
        "    # FPS hesapla\n",
        "    fps = 1.0 / (start_time - last_time[0])\n",
        "    last_time[0] = start_time\n",
        "\n",
        "    # FPS ve offset yazıları\n",
        "    cv2.putText(overlay, f\"FPS: {fps:.1f}\", (20, 40), cv2.FONT_HERSHEY_SIMPLEX, 1.0, (0, 255, 0), 2)\n",
        "    if offset is not None:\n",
        "        direction = \"left\" if offset > 0 else \"right\"\n",
        "        cv2.putText(overlay, f\"Offset: {abs(offset):.2f}m {direction}\", (20, 80),\n",
        "                    cv2.FONT_HERSHEY_SIMPLEX, 1.0, (0, 255, 255), 2)\n",
        "\n",
        "    # 8. Son çıktıyı da kaydet\n",
        "    cv2.imwrite(f\"output/{frame_id:03d}_6_final_overlay.jpg\", overlay)\n",
        "\n",
        "    return overlay\n",
        "\n",
        "\n",
        "def process_video(input_path, output_path):\n",
        "    clip = editor.VideoFileClip(input_path)\n",
        "    result = clip.fl_image(frame_processor)\n",
        "    result.write_videofile(output_path, audio=False)\n",
        "\n",
        "\n",
        "# Çalıştırma\n",
        "process_video(test_video, output_video)"
      ],
      "metadata": {
        "id": "WSQEMw1vbdDP",
        "colab": {
          "base_uri": "https://localhost:8080/"
        },
        "outputId": "2977e68b-a697-4ed8-c7ee-a163d1813578"
      },
      "execution_count": null,
      "outputs": [
        {
          "output_type": "stream",
          "name": "stdout",
          "text": [
            "Moviepy - Building video /content/output_video1.mp4.\n",
            "Moviepy - Writing video /content/output_video1.mp4\n",
            "\n"
          ]
        },
        {
          "output_type": "stream",
          "name": "stderr",
          "text": []
        },
        {
          "output_type": "stream",
          "name": "stdout",
          "text": [
            "Moviepy - Done !\n",
            "Moviepy - video ready /content/output_video1.mp4\n"
          ]
        }
      ]
    }
  ],
  "metadata": {
    "colab": {
      "provenance": [],
      "include_colab_link": true
    },
    "kernelspec": {
      "display_name": "Python 3",
      "name": "python3"
    }
  },
  "nbformat": 4,
  "nbformat_minor": 0
}